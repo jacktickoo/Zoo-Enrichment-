{
 "cells": [
  {
   "cell_type": "code",
   "execution_count": 276,
   "metadata": {},
   "outputs": [],
   "source": [
    "# -*- coding: utf-8 -*-\n",
    "from datetime import datetime\n",
    "\n",
    "import warnings\n",
    "# wilcoxon test has so many future warnings: \n",
    "# \"FutureWarning: DataFrame.mean and DataFrame.median \n",
    "# with numeric_only=None will include datetime64 and \n",
    "# datetime64tz columns in a future version.\"\n",
    "warnings.simplefilter(action='ignore', category=FutureWarning)\n",
    "\n",
    "from scipy import stats\n",
    "import numpy as np\n",
    "import pandas as pd\n",
    "import matplotlib.pyplot as plt \n",
    "import matplotlib.dates as mdates\n",
    "\n",
    "\n",
    "from matplotlib import rcParams\n"
   ]
  },
  {
   "cell_type": "code",
   "execution_count": 277,
   "metadata": {},
   "outputs": [
    {
     "data": {
      "text/html": [
       "<style>.container { width:100% !important; }</style>"
      ],
      "text/plain": [
       "<IPython.core.display.HTML object>"
      ]
     },
     "metadata": {},
     "output_type": "display_data"
    }
   ],
   "source": [
    "from IPython.core.display import display, HTML\n",
    "display(HTML(\"<style>.container { width:100% !important; }</style>\"))"
   ]
  },
  {
   "cell_type": "code",
   "execution_count": 278,
   "metadata": {},
   "outputs": [],
   "source": [
    "# Plot settings\n",
    "plt.rcParams['figure.figsize'] = [16, 8]\n",
    "\n",
    "SMALL_SIZE = 16\n",
    "MEDIUM_SIZE = 19\n",
    "BIGGER_SIZE = 22\n",
    "\n",
    "plt.rc('font', size=SMALL_SIZE)          # controls default text sizes\n",
    "plt.rc('axes', titlesize=MEDIUM_SIZE)     # fontsize of the axes title\n",
    "plt.rc('axes', labelsize=MEDIUM_SIZE)    # fontsize of the x and y labels\n",
    "plt.rc('xtick', labelsize=SMALL_SIZE)    # fontsize of the tick labels\n",
    "plt.rc('ytick', labelsize=SMALL_SIZE)    # fontsize of the tick labels\n",
    "plt.rc('legend', fontsize=SMALL_SIZE)    # legend fontsize\n",
    "plt.rc('figure', titlesize=BIGGER_SIZE)  # fontsize of the figure title\n",
    "#plt.rc('title', titlesize=BIGGER_SIZE)  # fontsize of the figure title"
   ]
  },
  {
   "cell_type": "code",
   "execution_count": 279,
   "metadata": {},
   "outputs": [],
   "source": [
    "\n",
    "#Data files:\n",
    "NO_SOUND_DATA = 'data/form-prototype-data.csv'\n",
    "SOUND_DATA = 'data/sound-comparison-data.csv'\n",
    "ALIVE_DATA = 'data/alive.csv'\n",
    "\n",
    "KEYS = ['1. silent', '2. rain', \n",
    "        '3. zen', '4. traffic', '5. music']"
   ]
  },
  {
   "cell_type": "markdown",
   "metadata": {},
   "source": [
    "# Utility functions"
   ]
  },
  {
   "cell_type": "code",
   "execution_count": 280,
   "metadata": {},
   "outputs": [],
   "source": [
    "def convert_time(row,col='time'):\n",
    "    time = datetime.strptime(row[col], '%Y-%m-%d %H:%M:%S')\n",
    "    return time"
   ]
  },
  {
   "cell_type": "code",
   "execution_count": 281,
   "metadata": {},
   "outputs": [],
   "source": [
    "def convert_encoded_row(row, col):\n",
    "    time = datetime.strptime(' '.join([row['Date'], row[col]]), '%d.%m.%Y %H:%M:%S')\n",
    "    return time\n",
    "\n",
    "def get_duration(row):\n",
    "    return (row['end'] - row['start']).total_seconds()\n",
    "\n",
    "def is_use_type(row, codes):\n",
    "    found = [word for word in codes if(word in row['Keywords'])]\n",
    "    is_in = bool(found)\n",
    "    return is_in\n",
    "    "
   ]
  },
  {
   "cell_type": "markdown",
   "metadata": {},
   "source": [
    "# Data"
   ]
  },
  {
   "cell_type": "code",
   "execution_count": 282,
   "metadata": {},
   "outputs": [],
   "source": [
    "\n",
    "\n",
    "# Extract \"inside the tunnel\" interactions from the data logged from the video recordings\n",
    "# drop_notin = True drops all events where the monkey is not inside the tunnel\n",
    "def get_nosound_event_data(filename, drop_notin=True):\n",
    "    df = pd.read_csv(filename,sep=';', parse_dates=True)\n",
    "    df['duration'] = df.apply(get_duration, axis=1)\n",
    "    df['is in'] = df.apply(is_use_inside, axis=1)\n",
    "    print('before',len(df.index))\n",
    "    return_df = df[['start', 'end', 'duration', 'Keywords', 'Monkeys']]\n",
    "    if drop_notin:\n",
    "        df = df.drop(df[~df['is in']].index)\n",
    "        return_df = df[['start', 'end', 'duration']]\n",
    "    print('after',len(df.index))\n",
    "    \n",
    "    \n",
    "    return (return_df, 0)\n",
    "   "
   ]
  },
  {
   "cell_type": "code",
   "execution_count": 283,
   "metadata": {},
   "outputs": [],
   "source": [
    "def get_hours(filename):\n",
    "    alive = pd.read_csv(filename,sep=',',names=['time'], parse_dates=True)\n",
    "    alive['time'] = alive.apply(convert_time, axis=1)\n",
    "    alive['hour'] = alive.apply(lambda x: x['time'].hour, axis=1)\n",
    "    alive = alive.drop(alive[alive['hour'] < 7].index)\n",
    "    alive = alive.drop(alive[alive['hour'] > 19].index)\n",
    "    grouped = alive.resample('D', on='time')\n",
    "    first_hour = grouped.min()['hour'].rename('first_hour')\n",
    "    last_hour = grouped.max()['hour'].rename('last_hour')\n",
    "\n",
    "    times = pd.concat([first_hour, last_hour], axis=1).fillna(0)\n",
    "    times['hours'] = times.apply(lambda row: int(row['last_hour']) - int(row['first_hour']), axis=1)\n",
    "    return times[['hours', 'first_hour', 'last_hour']]\n"
   ]
  },
  {
   "cell_type": "code",
   "execution_count": 284,
   "metadata": {},
   "outputs": [],
   "source": [
    "nosound_events = pd.read_csv(NO_SOUND_DATA,sep=',', parse_dates=True)\n",
    "nosound_events['start'] = nosound_events.apply(convert_time,axis=1,args=('start',))\n",
    "\n",
    "final_events = pd.read_csv(SOUND_DATA,sep=',', parse_dates=True).set_index(['name','i'])\n",
    "# Convert 'start' to date\n",
    "final_events['start'] = final_events.apply(convert_time,axis=1,args=('start',))\n",
    "hours_per_day = get_hours(ALIVE_DATA)\n"
   ]
  },
  {
   "cell_type": "markdown",
   "metadata": {},
   "source": [
    "# Interactions with the non-functional prototype"
   ]
  },
  {
   "cell_type": "code",
   "execution_count": 285,
   "metadata": {},
   "outputs": [],
   "source": [
    "def analyse_keywords(events):\n",
    "    keywords = ['go through', 'go over', 'next to', 'go in', 'sit middle', 'sit on edge', 'on top','bite', 'grab', 'look through', 'food', 'shoo', 'play', 'groom']\n",
    "    alln = len(events.index)\n",
    "    print('Total N:', alln)\n",
    "    \n",
    "    temp = events.copy()\n",
    "    \n",
    "    temp['is in'] = events.apply(is_use_type, args=(['sit on edge', 'sit middle', 'go through'],), axis=1)\n",
    "    just_in = temp.drop(temp[~temp['is in']].index)\n",
    "    print('Inside interactions N:', len(just_in), '{:.4f}'.format(100*len(just_in) / float(alln)), '%')\n",
    "   \n",
    "    temp['is manip'] = events.apply(is_use_type, args=(['grab', 'bite', 'look through'],), axis=1)\n",
    "    just_manip = temp.drop(temp[~temp['is manip']].index)\n",
    "    print('Manipulate interactions N:', len(just_manip), '{:.2f}'.format(100*len(just_manip) / float(alln)), '%')\n",
    "    \n",
    "    # This doesn't count other interactions including multiple individuals; actual % for all social interactions\n",
    "    # is the % of interactions including 2 or more individuals\n",
    "    temp['is soc'] = events.apply(is_use_type, args=(['groom', 'shoo'],), axis=1)\n",
    "    just_soc = temp.drop(temp[~temp['is soc']].index)\n",
    "    print('Social interactions N:', len(just_soc), '{:.2f}'.format(100*len(just_soc) / float(alln)), '%')\n",
    "    \n",
    "    temp['is other'] = events.apply(is_use_type, args=(['go over', 'on top', 'next to', 'food'],), axis=1)\n",
    "    just_other = temp.drop(temp[~temp['is other']].index)\n",
    "    print('Other interactions N:', len(just_other), '{:.2f}'.format(100*len(just_other) / float(alln)), '%')\n",
    "    \n",
    "    print('{: >13} {: >8} {: >6} {: >12} {: >10}'.format('code','%','N', 'Total dur', 'Mean dur'))\n",
    "    for word in keywords:\n",
    "        temp['found'] = events.apply(lambda row: True if word in row['Keywords'] else False, axis=1)\n",
    "        k_events = temp[temp['found'] == True]\n",
    "        s = k_events['duration'].sum()\n",
    "        n = len(k_events.index)\n",
    "        frac = (n/alln)\n",
    "        # Event avg duration (s/n) causes a warning if n == 0\n",
    "        print('{: <13}: {:6.2f} %  {:4d}  {:8d} s  {:8.2f} s'.format(word,frac* 100,n, int(s), s/n))\n",
    "        \n",
    "        \n",
    "    print('\\nNumber of monkeys:')\n",
    "    print(events['Monkeys'].value_counts())\n",
    "    \n",
    "    "
   ]
  },
  {
   "cell_type": "code",
   "execution_count": 286,
   "metadata": {},
   "outputs": [],
   "source": [
    "firstdate = datetime.strptime('29-10-2019', '%d-%m-%Y')\n",
    "untildate = datetime.strptime('16-11-2019', '%d-%m-%Y')\n",
    "\n",
    "nosound_events_s = nosound_events[(nosound_events['start'] < untildate)]\n",
    "# Gap at 07/11-09/11 due to lost video recordings\n",
    "missing_date = '2019-11-07'\n",
    "nosound_events_start = nosound_events_s[nosound_events_s['date'] != missing_date]\n",
    "nosound_events_firstday = nosound_events[nosound_events['start'] < firstdate]\n",
    "thedate = datetime.strptime('11-11-2019', '%d-%m-%Y')\n",
    "nosound_events_end = nosound_events[nosound_events['start'] > thedate]\n"
   ]
  },
  {
   "cell_type": "code",
   "execution_count": 287,
   "metadata": {},
   "outputs": [
    {
     "data": {
      "image/png": "[encoded data removed]",
      "text/plain": [
       "<Figure size 720x432 with 1 Axes>"
      ]
     },
     "metadata": {
      "needs_background": "light"
     },
     "output_type": "display_data"
    }
   ],
   "source": [
    "daygroup = nosound_events_start.groupby('date')\n",
    "durations = daygroup['duration'].count()\n",
    "# reset index to start at 1\n",
    "durations.index = np.arange(1, len(durations) + 1)\n",
    "\n",
    "ax = durations.plot(kind='line', title=\"Number of daily interactions\", figsize=(10,6))\n",
    "ax.set_ylabel(\"N\")\n",
    "ax.set_xlabel(\"Day\")\n",
    "plt.tight_layout()\n",
    "\n",
    "ax.set_xlim(1, 16)\n",
    "dim=np.arange(1,17,1)\n",
    "ax.set_xticks(dim)\n",
    "\n",
    "fig = ax.get_figure()\n",
    "fig.savefig(\"img/initial_daily_interactions.png\")\n"
   ]
  },
  {
   "cell_type": "code",
   "execution_count": 288,
   "metadata": {},
   "outputs": [
    {
     "data": {
      "image/png": "[encoded data removed]",
      "text/plain": [
       "<Figure size 720x432 with 1 Axes>"
      ]
     },
     "metadata": {
      "needs_background": "light"
     },
     "output_type": "display_data"
    }
   ],
   "source": [
    "durations_sum = daygroup['duration'].sum()\n",
    "# reset index to start at 1\n",
    "durations_sum.index = np.arange(1, len(durations_sum) + 1)\n",
    "ax=durations_sum.plot(kind='line', title=\"Total interaction time per day\", figsize=(10,6), rot=30)\n",
    "ax.set_ylabel(\"s\")\n",
    "ax.set_xlabel(\"Day\")\n",
    "ax.set_xticks(range(16))\n",
    "plt.tight_layout()\n",
    "\n",
    "ax.set_xlim(1, 16)\n",
    "dim=np.arange(1,17,1)\n",
    "ax.set_xticks(dim)\n",
    "\n",
    "fig = ax.get_figure()\n",
    "fig.savefig(\"img/initial_daily_interactions_total.png\")"
   ]
  },
  {
   "cell_type": "code",
   "execution_count": 289,
   "metadata": {},
   "outputs": [
    {
     "name": "stdout",
     "output_type": "stream",
     "text": [
      "Total N: 677\n",
      "Inside interactions N: 135 19.9409 %\n",
      "Manipulate interactions N: 73 10.78 %\n",
      "Social interactions N: 18 2.66 %\n",
      "Other interactions N: 578 85.38 %\n",
      "         code        %      N    Total dur   Mean dur\n",
      "go through   :  17.73 %   120      2799 s     23.32 s\n",
      "go over      :  54.95 %   372      3096 s      8.32 s\n",
      "next to      :   8.12 %    55      1732 s     31.49 s\n",
      "go in        :   0.44 %     3       111 s     37.00 s\n",
      "sit middle   :   0.89 %     6      2209 s    368.17 s\n",
      "sit on edge  :   7.09 %    48      4079 s     84.98 s\n",
      "on top       :  26.00 %   176      9017 s     51.23 s\n",
      "bite         :   3.25 %    22      3301 s    150.05 s\n",
      "grab         :   9.60 %    65      3614 s     55.60 s\n",
      "look through :   0.44 %     3       910 s    303.33 s\n",
      "food         :   1.33 %     9       154 s     17.11 s\n",
      "shoo         :   1.62 %    11       908 s     82.55 s\n",
      "play         :   0.74 %     5        80 s     16.00 s\n",
      "groom        :   1.03 %     7      1022 s    146.00 s\n",
      "\n",
      "Number of monkeys:\n",
      "1.0    637\n",
      "2.0     34\n",
      "3.0      4\n",
      "4.0      1\n",
      "Name: Monkeys, dtype: int64\n",
      "\n",
      "Mean duration 19.967503692762186\n",
      "Median duration 4.0\n",
      "Max duration 998.0\n",
      "------\n"
     ]
    }
   ],
   "source": [
    "\n",
    "analyse_keywords(nosound_events_start)\n",
    "print('\\nMean duration', nosound_events_start['duration'].mean())\n",
    "print('Median duration', nosound_events_start['duration'].median())\n",
    "print('Max duration', nosound_events_start['duration'].max())\n",
    "print('------')\n"
   ]
  },
  {
   "cell_type": "code",
   "execution_count": 290,
   "metadata": {},
   "outputs": [
    {
     "name": "stdout",
     "output_type": "stream",
     "text": [
      "Total N: 55\n",
      "Inside interactions N: 18 32.7273 %\n",
      "Manipulate interactions N: 25 45.45 %\n",
      "Social interactions N: 4 7.27 %\n",
      "Other interactions N: 50 90.91 %\n",
      "         code        %      N    Total dur   Mean dur\n",
      "go through   :  20.00 %    11       861 s     78.27 s\n",
      "go over      :  25.45 %    14       503 s     35.93 s\n",
      "next to      :  29.09 %    16       573 s     35.81 s\n",
      "go in        :   1.82 %     1        41 s     41.00 s\n",
      "sit middle   :   1.82 %     1       401 s    401.00 s\n",
      "sit on edge  :  21.82 %    12      1298 s    108.17 s\n",
      "on top       :  47.27 %    26      1630 s     62.69 s\n",
      "bite         :  18.18 %    10       901 s     90.10 s\n",
      "grab         :  40.00 %    22      1432 s     65.09 s\n",
      "look through :   3.64 %     2       298 s    149.00 s\n",
      "food         :   7.27 %     4        71 s     17.75 s\n",
      "shoo         :   7.27 %     4        99 s     24.75 s\n",
      "play         :   0.00 %     0         0 s       nan s\n",
      "groom        :   0.00 %     0         0 s       nan s\n",
      "\n",
      "Number of monkeys:\n",
      "1.0    45\n",
      "2.0     7\n",
      "3.0     1\n",
      "4.0     1\n",
      "Name: Monkeys, dtype: int64\n",
      "\n",
      "Mean duration 36.14545454545455\n",
      "Median duration 14.0\n",
      "Max duration 401.0\n",
      "------\n"
     ]
    },
    {
     "name": "stderr",
     "output_type": "stream",
     "text": [
      "/u/83/piitulr1/unix/miniconda3/envs/monkeysounds-env/lib/python3.7/site-packages/ipykernel_launcher.py:34: RuntimeWarning: invalid value encountered in double_scalars\n",
      "/u/83/piitulr1/unix/miniconda3/envs/monkeysounds-env/lib/python3.7/site-packages/ipykernel_launcher.py:34: RuntimeWarning: invalid value encountered in double_scalars\n"
     ]
    }
   ],
   "source": [
    "# Only the first day\n",
    "analyse_keywords(nosound_events_firstday)\n",
    "print('\\nMean duration', nosound_events_firstday['duration'].mean())\n",
    "print('Median duration', nosound_events_firstday['duration'].median())\n",
    "print('Max duration', nosound_events_firstday['duration'].max())\n",
    "print('------')\n"
   ]
  },
  {
   "cell_type": "markdown",
   "metadata": {},
   "source": [
    "# Sound comparison analysis"
   ]
  },
  {
   "cell_type": "code",
   "execution_count": 291,
   "metadata": {},
   "outputs": [],
   "source": [
    "def aggregate_data(events, hours=None, known_hours=False):\n",
    "\n",
    "    # Some days the system was online only part of the day, get \n",
    "    # the correct hours for those instead of the default 12\n",
    "    def assign_hours(row):\n",
    "        if row.empty:\n",
    "            return 0\n",
    "        date = row.head(1).iloc[0].date().strftime(\"%Y-%m-%d\")\n",
    "        if date in hours:\n",
    "            return hours[date]\n",
    "        else:\n",
    "            return 12 \n",
    "\n",
    " \n",
    "    grouped = events.groupby('name').resample('D', on='start')\n",
    "    \n",
    "    first_hour = grouped['start'].min().rename('first')\n",
    "    last_hour = grouped['start'].max().rename('last')\n",
    "    counted = grouped['duration'].count().rename('count')\n",
    "    summed = grouped['duration'].sum().rename('sum')\n",
    "    mean = grouped['duration'].mean().rename('mean')\n",
    "    groupmin = grouped['duration'].min().rename('min')\n",
    "    groupmax = grouped['duration'].max().rename('max')\n",
    "    overone = grouped['duration'].apply(lambda x: (x > 1).sum()).rename('count > 1s')\n",
    "    hours = grouped['start'].apply(assign_hours).rename('hours')\n",
    "\n",
    "    final_data = pd.concat([first_hour, last_hour, \n",
    "                            counted, overone, summed, \n",
    "                            mean, groupmin, groupmax, hours], axis=1)\n",
    "\n",
    "    final_data['count / hour'] = final_data.apply(lambda row: 0 if (float(row['hours'] == 0)) else row['count'] / float(row['hours']), axis=1)\n",
    "    final_data['count > 1s / hour'] = final_data.apply(lambda row: 0 if (float(row['hours'] == 0)) else row['count > 1s'] / float(row['hours']), axis=1)\n",
    "    final_data['sum / hours'] = final_data.apply(lambda row: 0 if (row['hours'] == 0) else row['sum'] / row['hours'], axis=1)\n",
    "    \n",
    "    # Drop rows that have no data\n",
    "    final_data = final_data[final_data.hours != 0]\n",
    "    \n",
    "    return final_data"
   ]
  },
  {
   "cell_type": "code",
   "execution_count": 292,
   "metadata": {},
   "outputs": [
    {
     "data": {
      "text/html": [
       "<div>\n",
       "<style scoped>\n",
       "    .dataframe tbody tr th:only-of-type {\n",
       "        vertical-align: middle;\n",
       "    }\n",
       "\n",
       "    .dataframe tbody tr th {\n",
       "        vertical-align: top;\n",
       "    }\n",
       "\n",
       "    .dataframe thead th {\n",
       "        text-align: right;\n",
       "    }\n",
       "</style>\n",
       "<table border=\"1\" class=\"dataframe\">\n",
       "  <thead>\n",
       "    <tr style=\"text-align: right;\">\n",
       "      <th></th>\n",
       "      <th>count</th>\n",
       "      <th>count &gt; 1s</th>\n",
       "      <th>sum</th>\n",
       "      <th>mean</th>\n",
       "      <th>min</th>\n",
       "      <th>max</th>\n",
       "      <th>hours</th>\n",
       "      <th>count / hour</th>\n",
       "      <th>count &gt; 1s / hour</th>\n",
       "      <th>sum / hours</th>\n",
       "    </tr>\n",
       "    <tr>\n",
       "      <th>name</th>\n",
       "      <th></th>\n",
       "      <th></th>\n",
       "      <th></th>\n",
       "      <th></th>\n",
       "      <th></th>\n",
       "      <th></th>\n",
       "      <th></th>\n",
       "      <th></th>\n",
       "      <th></th>\n",
       "      <th></th>\n",
       "    </tr>\n",
       "  </thead>\n",
       "  <tbody>\n",
       "    <tr>\n",
       "      <th>1. silent</th>\n",
       "      <td>116</td>\n",
       "      <td>97</td>\n",
       "      <td>2709</td>\n",
       "      <td>186.955228</td>\n",
       "      <td>9.0</td>\n",
       "      <td>1895.0</td>\n",
       "      <td>63</td>\n",
       "      <td>12.875000</td>\n",
       "      <td>10.041667</td>\n",
       "      <td>238.291667</td>\n",
       "    </tr>\n",
       "    <tr>\n",
       "      <th>2. rain</th>\n",
       "      <td>173</td>\n",
       "      <td>143</td>\n",
       "      <td>1080</td>\n",
       "      <td>38.761347</td>\n",
       "      <td>8.0</td>\n",
       "      <td>226.0</td>\n",
       "      <td>73</td>\n",
       "      <td>16.222222</td>\n",
       "      <td>13.638889</td>\n",
       "      <td>99.527778</td>\n",
       "    </tr>\n",
       "    <tr>\n",
       "      <th>3. zen</th>\n",
       "      <td>206</td>\n",
       "      <td>159</td>\n",
       "      <td>1670</td>\n",
       "      <td>55.783797</td>\n",
       "      <td>7.0</td>\n",
       "      <td>419.0</td>\n",
       "      <td>79</td>\n",
       "      <td>18.059524</td>\n",
       "      <td>14.023810</td>\n",
       "      <td>148.988095</td>\n",
       "    </tr>\n",
       "    <tr>\n",
       "      <th>4. traffic</th>\n",
       "      <td>269</td>\n",
       "      <td>237</td>\n",
       "      <td>7739</td>\n",
       "      <td>176.509147</td>\n",
       "      <td>8.0</td>\n",
       "      <td>2287.0</td>\n",
       "      <td>69</td>\n",
       "      <td>26.166667</td>\n",
       "      <td>23.166667</td>\n",
       "      <td>700.700000</td>\n",
       "    </tr>\n",
       "    <tr>\n",
       "      <th>5. music</th>\n",
       "      <td>126</td>\n",
       "      <td>98</td>\n",
       "      <td>1244</td>\n",
       "      <td>71.569128</td>\n",
       "      <td>7.0</td>\n",
       "      <td>709.0</td>\n",
       "      <td>63</td>\n",
       "      <td>13.483333</td>\n",
       "      <td>10.658333</td>\n",
       "      <td>140.016667</td>\n",
       "    </tr>\n",
       "  </tbody>\n",
       "</table>\n",
       "</div>"
      ],
      "text/plain": [
       "            count  count > 1s   sum        mean  min     max  hours  \\\n",
       "name                                                                  \n",
       "1. silent     116          97  2709  186.955228  9.0  1895.0     63   \n",
       "2. rain       173         143  1080   38.761347  8.0   226.0     73   \n",
       "3. zen        206         159  1670   55.783797  7.0   419.0     79   \n",
       "4. traffic    269         237  7739  176.509147  8.0  2287.0     69   \n",
       "5. music      126          98  1244   71.569128  7.0   709.0     63   \n",
       "\n",
       "            count / hour  count > 1s / hour  sum / hours  \n",
       "name                                                      \n",
       "1. silent      12.875000          10.041667   238.291667  \n",
       "2. rain        16.222222          13.638889    99.527778  \n",
       "3. zen         18.059524          14.023810   148.988095  \n",
       "4. traffic     26.166667          23.166667   700.700000  \n",
       "5. music       13.483333          10.658333   140.016667  "
      ]
     },
     "execution_count": 292,
     "metadata": {},
     "output_type": "execute_result"
    }
   ],
   "source": [
    "final = aggregate_data(final_events.reset_index(), hours=hours_per_day['hours'])\n",
    "final.groupby('name').sum()"
   ]
  },
  {
   "cell_type": "markdown",
   "metadata": {},
   "source": [
    "## Statistical analysis"
   ]
  },
  {
   "cell_type": "code",
   "execution_count": 293,
   "metadata": {},
   "outputs": [],
   "source": [
    "# Sum durations by hour\n",
    "\n",
    "def sum_by_time(events, hours, interval='30min'):\n",
    "\n",
    "    hours = hours.reset_index()\n",
    "    hourly = []\n",
    "\n",
    "    for key in KEYS:\n",
    "        data = events.loc[key].reset_index(drop=True)\n",
    "        sample = data.resample(interval, on='start').sum()\n",
    "        sample_count = data.resample(interval, on='start').count()\n",
    "        sample['count'] = sample_count['duration']\n",
    "        sample['meanduration'] = sample.apply(lambda row: row['duration'] / row['count'] if row['count'] > 0 else 0,axis=1)\n",
    "        sample = sample.reset_index()\n",
    "\n",
    "        sample = sample.drop(sample[sample['start'].dt.hour < 7].index)\n",
    "        sample = sample.drop(sample[sample['start'].dt.hour > 18].index)\n",
    "\n",
    "        for i, row in hours.iterrows():\n",
    "            date = row['time'].date()\n",
    "            firsth = row['first_hour']\n",
    "            lasth = row['last_hour']\n",
    "            sample = sample.drop(sample[(sample['start'].dt.date == date) & (sample['start'].dt.hour < firsth)].index)\n",
    "            sample = sample.drop(sample[(sample['start'].dt.date == date) & (sample['start'].dt.hour > lasth)].index)\n",
    "\n",
    "        hourly.append(sample)\n",
    "\n",
    "    byhour = pd.concat(hourly, keys=KEYS, names=['name'])\n",
    "    byhour['starthour'] = byhour.apply(lambda row: row['start'].hour, axis=1)\n",
    "    \n",
    "    return byhour\n"
   ]
  },
  {
   "cell_type": "code",
   "execution_count": 294,
   "metadata": {},
   "outputs": [],
   "source": [
    "def generate_paired_data(hourly, xname, yname):#, n=4, seed=1):\n",
    "    hours = range(7, 19)\n",
    "    xhours = hourly.loc[xname]\n",
    "    yhours = hourly.loc[yname]\n",
    "    xdata = []\n",
    "    ydata = []\n",
    "    for h in hours:\n",
    "        xdata.append(xhours[(xhours['starthour'] == h) & (xhours['start'].dt.minute == 0)].mean())\n",
    "        xdata.append(xhours[(xhours['starthour'] == h) & (xhours['start'].dt.minute ==30)].mean())\n",
    "        ydata.append(yhours[(yhours['starthour'] == h) & (yhours['start'].dt.minute == 0)].mean())\n",
    "        ydata.append(yhours[(yhours['starthour'] == h) & (yhours['start'].dt.minute == 30)].mean())\n",
    "        \n",
    "    return (pd.concat(xdata, axis=0), pd.concat(ydata))\n"
   ]
  },
  {
   "cell_type": "code",
   "execution_count": 295,
   "metadata": {},
   "outputs": [],
   "source": [
    "\n",
    "def wilcox(data, measure):\n",
    "    p_limit = 0.05\n",
    "\n",
    "    for i, x in enumerate(KEYS, start=1):\n",
    "        for y in KEYS:\n",
    "            if x == y:\n",
    "                continue\n",
    "            print(x, 'vs', y)\n",
    "            xdata, ydata = generate_paired_data(data, x, y)\n",
    "            n1 = len(xdata[measure])\n",
    "            n2 = len(ydata[measure])\n",
    "            \n",
    "            diff = xdata[measure]-ydata[measure]\n",
    "            diffdf = pd.DataFrame(diff)\n",
    "            success = len(diffdf.loc[diffdf[0] > 0])\n",
    "            ties = len(diffdf.loc[diffdf[0] == 0])\n",
    "            \n",
    "            print(x, '(N=',n1,')', 'median:', xdata[measure].median(), 'mean:', xdata[measure].mean())\n",
    "            print(y, '(N=',n2,')', 'median:', ydata[measure].median(), 'mean:', ydata[measure].mean())\n",
    "    \n",
    "            W, p = stats.wilcoxon(xdata[measure], ydata[measure], alternative='greater', zero_method='pratt')\n",
    "\n",
    "            fract_of_bigger = success / (n1)\n",
    "            print('W=', W, ', p=', p, 'f=', fract_of_bigger, 'ties=', ties)\n",
    "            if p < p_limit:\n",
    "                print('{} is greater than {}! \\n'.format(x, y))\n",
    "            else:\n",
    "                print('No difference \\n')\n",
    "\n",
    "\n",
    "            print('----')\n"
   ]
  },
  {
   "cell_type": "code",
   "execution_count": 296,
   "metadata": {},
   "outputs": [
    {
     "name": "stdout",
     "output_type": "stream",
     "text": [
      "1. silent vs 2. rain\n",
      "1. silent (N= 24 ) median: 4.383333333333333 mean: 21.825000000000003\n",
      "2. rain (N= 24 ) median: 5.2 mean: 7.7063492063492065\n",
      "W= 155.5 , p= 0.43193307774264444 f= 0.4166666666666667 ties= 1\n",
      "No difference \n",
      "\n",
      "----\n",
      "1. silent vs 3. zen\n"
     ]
    },
    {
     "name": "stderr",
     "output_type": "stream",
     "text": [
      "/u/83/piitulr1/unix/miniconda3/envs/monkeysounds-env/lib/python3.7/site-packages/scipy/stats/morestats.py:2957: UserWarning: Exact p-value calculation does not work if there are ties. Switching to normal approximation.\n",
      "  warnings.warn(\"Exact p-value calculation does not work if there are \"\n",
      "/u/83/piitulr1/unix/miniconda3/envs/monkeysounds-env/lib/python3.7/site-packages/scipy/stats/morestats.py:2957: UserWarning: Exact p-value calculation does not work if there are ties. Switching to normal approximation.\n",
      "  warnings.warn(\"Exact p-value calculation does not work if there are \"\n"
     ]
    },
    {
     "name": "stdout",
     "output_type": "stream",
     "text": [
      "1. silent (N= 24 ) median: 4.383333333333333 mean: 21.825000000000003\n",
      "3. zen (N= 24 ) median: 5.0 mean: 10.857638888888891\n",
      "W= 141.0 , p= 0.5959515670922135 f= 0.3333333333333333 ties= 1\n",
      "No difference \n",
      "\n",
      "----\n",
      "1. silent vs 4. traffic\n",
      "1. silent (N= 24 ) median: 4.383333333333333 mean: 21.825000000000003\n",
      "4. traffic (N= 24 ) median: 12.583333333333334 mean: 56.36388888888888\n",
      "W= 66.0 , p= 0.9914826463216715 f= 0.20833333333333334 ties= 1\n",
      "No difference \n",
      "\n",
      "----\n",
      "1. silent vs 5. music\n"
     ]
    },
    {
     "name": "stderr",
     "output_type": "stream",
     "text": [
      "/u/83/piitulr1/unix/miniconda3/envs/monkeysounds-env/lib/python3.7/site-packages/scipy/stats/morestats.py:2957: UserWarning: Exact p-value calculation does not work if there are ties. Switching to normal approximation.\n",
      "  warnings.warn(\"Exact p-value calculation does not work if there are \"\n"
     ]
    },
    {
     "name": "stdout",
     "output_type": "stream",
     "text": [
      "1. silent (N= 24 ) median: 4.383333333333333 mean: 21.825000000000003\n",
      "5. music (N= 24 ) median: 4.726190476190476 mean: 10.714186507936509\n",
      "W= 140.0 , p= 0.6158518195152283 f= 0.4583333333333333 ties= 0\n",
      "No difference \n",
      "\n",
      "----\n",
      "2. rain vs 1. silent\n",
      "2. rain (N= 24 ) median: 5.2 mean: 7.7063492063492065\n",
      "1. silent (N= 24 ) median: 4.383333333333333 mean: 21.825000000000003\n",
      "W= 143.5 , p= 0.5680669222573556 f= 0.5416666666666666 ties= 1\n",
      "No difference \n",
      "\n",
      "----\n",
      "2. rain vs 3. zen\n"
     ]
    },
    {
     "name": "stderr",
     "output_type": "stream",
     "text": [
      "/u/83/piitulr1/unix/miniconda3/envs/monkeysounds-env/lib/python3.7/site-packages/scipy/stats/morestats.py:2957: UserWarning: Exact p-value calculation does not work if there are ties. Switching to normal approximation.\n",
      "  warnings.warn(\"Exact p-value calculation does not work if there are \"\n",
      "/u/83/piitulr1/unix/miniconda3/envs/monkeysounds-env/lib/python3.7/site-packages/scipy/stats/morestats.py:2957: UserWarning: Exact p-value calculation does not work if there are ties. Switching to normal approximation.\n",
      "  warnings.warn(\"Exact p-value calculation does not work if there are \"\n"
     ]
    },
    {
     "name": "stdout",
     "output_type": "stream",
     "text": [
      "2. rain (N= 24 ) median: 5.2 mean: 7.7063492063492065\n",
      "3. zen (N= 24 ) median: 5.0 mean: 10.857638888888891\n",
      "W= 121.5 , p= 0.7881800802596396 f= 0.3333333333333333 ties= 1\n",
      "No difference \n",
      "\n",
      "----\n",
      "2. rain vs 4. traffic\n",
      "2. rain (N= 24 ) median: 5.2 mean: 7.7063492063492065\n",
      "4. traffic (N= 24 ) median: 12.583333333333334 mean: 56.36388888888888\n",
      "W= 61.0 , p= 0.9942778194027345 f= 0.2916666666666667 ties= 1\n",
      "No difference \n",
      "\n",
      "----\n",
      "2. rain vs 5. music\n"
     ]
    },
    {
     "name": "stderr",
     "output_type": "stream",
     "text": [
      "/u/83/piitulr1/unix/miniconda3/envs/monkeysounds-env/lib/python3.7/site-packages/scipy/stats/morestats.py:2957: UserWarning: Exact p-value calculation does not work if there are ties. Switching to normal approximation.\n",
      "  warnings.warn(\"Exact p-value calculation does not work if there are \"\n",
      "/u/83/piitulr1/unix/miniconda3/envs/monkeysounds-env/lib/python3.7/site-packages/scipy/stats/morestats.py:2957: UserWarning: Exact p-value calculation does not work if there are ties. Switching to normal approximation.\n",
      "  warnings.warn(\"Exact p-value calculation does not work if there are \"\n"
     ]
    },
    {
     "name": "stdout",
     "output_type": "stream",
     "text": [
      "2. rain (N= 24 ) median: 5.2 mean: 7.7063492063492065\n",
      "5. music (N= 24 ) median: 4.726190476190476 mean: 10.714186507936509\n",
      "W= 143.0 , p= 0.5736804538313957 f= 0.4583333333333333 ties= 1\n",
      "No difference \n",
      "\n",
      "----\n",
      "3. zen vs 1. silent\n",
      "3. zen (N= 24 ) median: 5.0 mean: 10.857638888888891\n",
      "1. silent (N= 24 ) median: 4.383333333333333 mean: 21.825000000000003\n",
      "W= 158.0 , p= 0.4040484329077865 f= 0.625 ties= 1\n",
      "No difference \n",
      "\n",
      "----\n",
      "3. zen vs 2. rain\n"
     ]
    },
    {
     "name": "stderr",
     "output_type": "stream",
     "text": [
      "/u/83/piitulr1/unix/miniconda3/envs/monkeysounds-env/lib/python3.7/site-packages/scipy/stats/morestats.py:2957: UserWarning: Exact p-value calculation does not work if there are ties. Switching to normal approximation.\n",
      "  warnings.warn(\"Exact p-value calculation does not work if there are \"\n",
      "/u/83/piitulr1/unix/miniconda3/envs/monkeysounds-env/lib/python3.7/site-packages/scipy/stats/morestats.py:2957: UserWarning: Exact p-value calculation does not work if there are ties. Switching to normal approximation.\n",
      "  warnings.warn(\"Exact p-value calculation does not work if there are \"\n"
     ]
    },
    {
     "name": "stdout",
     "output_type": "stream",
     "text": [
      "3. zen (N= 24 ) median: 5.0 mean: 10.857638888888891\n",
      "2. rain (N= 24 ) median: 5.2 mean: 7.7063492063492065\n",
      "W= 177.5 , p= 0.2118199197403604 f= 0.625 ties= 1\n",
      "No difference \n",
      "\n",
      "----\n",
      "3. zen vs 4. traffic\n",
      "3. zen (N= 24 ) median: 5.0 mean: 10.857638888888891\n",
      "4. traffic (N= 24 ) median: 12.583333333333334 mean: 56.36388888888888\n",
      "W= 49.0 , p= 0.9979597342796109 f= 0.2916666666666667 ties= 1\n",
      "No difference \n",
      "\n",
      "----\n",
      "3. zen vs 5. music\n"
     ]
    },
    {
     "name": "stderr",
     "output_type": "stream",
     "text": [
      "/u/83/piitulr1/unix/miniconda3/envs/monkeysounds-env/lib/python3.7/site-packages/scipy/stats/morestats.py:2957: UserWarning: Exact p-value calculation does not work if there are ties. Switching to normal approximation.\n",
      "  warnings.warn(\"Exact p-value calculation does not work if there are \"\n"
     ]
    },
    {
     "name": "stdout",
     "output_type": "stream",
     "text": [
      "3. zen (N= 24 ) median: 5.0 mean: 10.857638888888891\n",
      "5. music (N= 24 ) median: 4.726190476190476 mean: 10.714186507936509\n",
      "W= 173.0 , p= 0.26352953910827637 f= 0.5833333333333334 ties= 0\n",
      "No difference \n",
      "\n",
      "----\n",
      "4. traffic vs 1. silent\n",
      "4. traffic (N= 24 ) median: 12.583333333333334 mean: 56.36388888888888\n",
      "1. silent (N= 24 ) median: 4.383333333333333 mean: 21.825000000000003\n",
      "W= 233.0 , p= 0.008517353678328473 f= 0.75 ties= 1\n",
      "4. traffic is greater than 1. silent! \n",
      "\n",
      "----\n",
      "4. traffic vs 2. rain\n"
     ]
    },
    {
     "name": "stderr",
     "output_type": "stream",
     "text": [
      "/u/83/piitulr1/unix/miniconda3/envs/monkeysounds-env/lib/python3.7/site-packages/scipy/stats/morestats.py:2957: UserWarning: Exact p-value calculation does not work if there are ties. Switching to normal approximation.\n",
      "  warnings.warn(\"Exact p-value calculation does not work if there are \"\n",
      "/u/83/piitulr1/unix/miniconda3/envs/monkeysounds-env/lib/python3.7/site-packages/scipy/stats/morestats.py:2957: UserWarning: Exact p-value calculation does not work if there are ties. Switching to normal approximation.\n",
      "  warnings.warn(\"Exact p-value calculation does not work if there are \"\n"
     ]
    },
    {
     "name": "stdout",
     "output_type": "stream",
     "text": [
      "4. traffic (N= 24 ) median: 12.583333333333334 mean: 56.36388888888888\n",
      "2. rain (N= 24 ) median: 5.2 mean: 7.7063492063492065\n",
      "W= 238.0 , p= 0.005722180597265479 f= 0.6666666666666666 ties= 1\n",
      "4. traffic is greater than 2. rain! \n",
      "\n",
      "----\n",
      "4. traffic vs 3. zen\n",
      "4. traffic (N= 24 ) median: 12.583333333333334 mean: 56.36388888888888\n",
      "3. zen (N= 24 ) median: 5.0 mean: 10.857638888888891\n",
      "W= 250.0 , p= 0.002040265720389106 f= 0.6666666666666666 ties= 1\n",
      "4. traffic is greater than 3. zen! \n",
      "\n",
      "----\n",
      "4. traffic vs 5. music\n"
     ]
    },
    {
     "name": "stderr",
     "output_type": "stream",
     "text": [
      "/u/83/piitulr1/unix/miniconda3/envs/monkeysounds-env/lib/python3.7/site-packages/scipy/stats/morestats.py:2957: UserWarning: Exact p-value calculation does not work if there are ties. Switching to normal approximation.\n",
      "  warnings.warn(\"Exact p-value calculation does not work if there are \"\n"
     ]
    },
    {
     "name": "stdout",
     "output_type": "stream",
     "text": [
      "4. traffic (N= 24 ) median: 12.583333333333334 mean: 56.36388888888888\n",
      "5. music (N= 24 ) median: 4.726190476190476 mean: 10.714186507936509\n",
      "W= 226.0 , p= 0.014565646648406982 f= 0.625 ties= 0\n",
      "4. traffic is greater than 5. music! \n",
      "\n",
      "----\n",
      "5. music vs 1. silent\n",
      "5. music (N= 24 ) median: 4.726190476190476 mean: 10.714186507936509\n",
      "1. silent (N= 24 ) median: 4.383333333333333 mean: 21.825000000000003\n",
      "W= 160.0 , p= 0.39491891860961914 f= 0.5416666666666666 ties= 0\n",
      "No difference \n",
      "\n",
      "----\n",
      "5. music vs 2. rain\n",
      "5. music (N= 24 ) median: 4.726190476190476 mean: 10.714186507936509\n",
      "2. rain (N= 24 ) median: 5.2 mean: 7.7063492063492065\n",
      "W= 156.0 , p= 0.42631954616860435 f= 0.5 ties= 1\n",
      "No difference \n",
      "\n",
      "----\n",
      "5. music vs 3. zen\n",
      "5. music (N= 24 ) median: 4.726190476190476 mean: 10.714186507936509\n",
      "3. zen (N= 24 ) median: 5.0 mean: 10.857638888888891\n",
      "W= 127.0 , p= 0.7456169724464417 f= 0.4166666666666667 ties= 0\n",
      "No difference \n",
      "\n",
      "----\n",
      "5. music vs 4. traffic\n"
     ]
    },
    {
     "name": "stderr",
     "output_type": "stream",
     "text": [
      "/u/83/piitulr1/unix/miniconda3/envs/monkeysounds-env/lib/python3.7/site-packages/scipy/stats/morestats.py:2957: UserWarning: Exact p-value calculation does not work if there are ties. Switching to normal approximation.\n",
      "  warnings.warn(\"Exact p-value calculation does not work if there are \"\n"
     ]
    },
    {
     "name": "stdout",
     "output_type": "stream",
     "text": [
      "5. music (N= 24 ) median: 4.726190476190476 mean: 10.714186507936509\n",
      "4. traffic (N= 24 ) median: 12.583333333333334 mean: 56.36388888888888\n",
      "W= 74.0 , p= 0.9865361452102661 f= 0.375 ties= 0\n",
      "No difference \n",
      "\n",
      "----\n"
     ]
    }
   ],
   "source": [
    "# Wilcoxon paired test for mean duration in 30 min intervals\n",
    " \n",
    "byhour = sum_by_time(final_events,hours_per_day)\n",
    "wilcox(byhour, 'duration')\n"
   ]
  },
  {
   "cell_type": "markdown",
   "metadata": {},
   "source": [
    "## Figures and descriptive stats"
   ]
  },
  {
   "cell_type": "code",
   "execution_count": 297,
   "metadata": {},
   "outputs": [],
   "source": [
    "def basic_plot(data):\n",
    "    ax1 = data.unstack(level=0).plot(y='sum / hours',kind='line', title='Average total interaction time per hour', figsize=(10,6))\n",
    "    ax1.set_ylabel('seconds')\n",
    "    #data.unstack(level=0).plot(y='sum > 1s / hours',kind='line', title='Average total interaction time per hour (> 1s)')\n",
    "    ax2 = data.unstack(level=0).plot(y='count / hour',kind='line', title='Average number or interactions per hour', figsize=(10,6))\n",
    "    ax2.set_ylabel('number')\n",
    "    \n",
    "    dim=np.arange(1,8,1)\n",
    "    for ax in [ax1, ax2]:\n",
    "        ax.set_xticks(range(8))\n",
    "        ax.set_xlim(1, 7)\n",
    "        ax.set_xticks(dim)\n",
    "        \n",
    "        ax.legend(['Silent', 'Rain', 'Zen', 'Traffic', 'Music'])\n",
    " "
   ]
  },
  {
   "cell_type": "code",
   "execution_count": 298,
   "metadata": {},
   "outputs": [
    {
     "data": {
      "image/png": "[encoded data removed]",
      "text/plain": [
       "<Figure size 720x432 with 1 Axes>"
      ]
     },
     "metadata": {
      "needs_background": "light"
     },
     "output_type": "display_data"
    },
    {
     "data": {
      "image/png": "[encoded data removed]",
      "text/plain": [
       "<Figure size 720x432 with 1 Axes>"
      ]
     },
     "metadata": {
      "needs_background": "light"
     },
     "output_type": "display_data"
    }
   ],
   "source": [
    "\n",
    "final.index = pd.MultiIndex.from_arrays(\n",
    "    [final.index.get_level_values(0), final.groupby(level=0).cumcount() + 1],\n",
    "    names=['name', 'day'])\n",
    "\n",
    "basic_plot(final)"
   ]
  },
  {
   "cell_type": "markdown",
   "metadata": {},
   "source": [
    "### Descriptive stats"
   ]
  },
  {
   "cell_type": "code",
   "execution_count": 299,
   "metadata": {},
   "outputs": [
    {
     "name": "stdout",
     "output_type": "stream",
     "text": [
      "Data is not normal, p = 0.0000000000\n"
     ]
    }
   ],
   "source": [
    "#Normality test\n",
    "k2, p = stats.normaltest(final_events['duration'].values)\n",
    "if p < 0.001:\n",
    "    # Reject the null hypothesis that data is normal\n",
    "    print(\"Data is not normal, p = {:.10f}\".format(p))\n",
    "else:\n",
    "    print(\"Data is normal, p = \", p)"
   ]
  },
  {
   "cell_type": "code",
   "execution_count": 300,
   "metadata": {},
   "outputs": [
    {
     "data": {
      "text/html": [
       "<div>\n",
       "<style scoped>\n",
       "    .dataframe tbody tr th:only-of-type {\n",
       "        vertical-align: middle;\n",
       "    }\n",
       "\n",
       "    .dataframe tbody tr th {\n",
       "        vertical-align: top;\n",
       "    }\n",
       "\n",
       "    .dataframe thead th {\n",
       "        text-align: right;\n",
       "    }\n",
       "</style>\n",
       "<table border=\"1\" class=\"dataframe\">\n",
       "  <thead>\n",
       "    <tr style=\"text-align: right;\">\n",
       "      <th></th>\n",
       "      <th>count</th>\n",
       "      <th>mean</th>\n",
       "      <th>std</th>\n",
       "      <th>min</th>\n",
       "      <th>25%</th>\n",
       "      <th>50%</th>\n",
       "      <th>75%</th>\n",
       "      <th>max</th>\n",
       "    </tr>\n",
       "    <tr>\n",
       "      <th>name</th>\n",
       "      <th></th>\n",
       "      <th></th>\n",
       "      <th></th>\n",
       "      <th></th>\n",
       "      <th></th>\n",
       "      <th></th>\n",
       "      <th></th>\n",
       "      <th></th>\n",
       "    </tr>\n",
       "  </thead>\n",
       "  <tbody>\n",
       "    <tr>\n",
       "      <th>1. silent</th>\n",
       "      <td>116.0</td>\n",
       "      <td>23.353448</td>\n",
       "      <td>107.499100</td>\n",
       "      <td>1.0</td>\n",
       "      <td>2.0</td>\n",
       "      <td>4.0</td>\n",
       "      <td>7.00</td>\n",
       "      <td>1052.0</td>\n",
       "    </tr>\n",
       "    <tr>\n",
       "      <th>2. rain</th>\n",
       "      <td>173.0</td>\n",
       "      <td>6.242775</td>\n",
       "      <td>11.399154</td>\n",
       "      <td>1.0</td>\n",
       "      <td>2.0</td>\n",
       "      <td>4.0</td>\n",
       "      <td>7.00</td>\n",
       "      <td>116.0</td>\n",
       "    </tr>\n",
       "    <tr>\n",
       "      <th>3. zen</th>\n",
       "      <td>206.0</td>\n",
       "      <td>8.106796</td>\n",
       "      <td>16.072648</td>\n",
       "      <td>1.0</td>\n",
       "      <td>2.0</td>\n",
       "      <td>3.0</td>\n",
       "      <td>6.75</td>\n",
       "      <td>141.0</td>\n",
       "    </tr>\n",
       "    <tr>\n",
       "      <th>4. traffic</th>\n",
       "      <td>269.0</td>\n",
       "      <td>28.769517</td>\n",
       "      <td>73.789680</td>\n",
       "      <td>1.0</td>\n",
       "      <td>2.0</td>\n",
       "      <td>6.0</td>\n",
       "      <td>22.00</td>\n",
       "      <td>882.0</td>\n",
       "    </tr>\n",
       "    <tr>\n",
       "      <th>5. music</th>\n",
       "      <td>126.0</td>\n",
       "      <td>9.873016</td>\n",
       "      <td>33.285909</td>\n",
       "      <td>1.0</td>\n",
       "      <td>2.0</td>\n",
       "      <td>3.0</td>\n",
       "      <td>5.00</td>\n",
       "      <td>307.0</td>\n",
       "    </tr>\n",
       "  </tbody>\n",
       "</table>\n",
       "</div>"
      ],
      "text/plain": [
       "            count       mean         std  min  25%  50%    75%     max\n",
       "name                                                                  \n",
       "1. silent   116.0  23.353448  107.499100  1.0  2.0  4.0   7.00  1052.0\n",
       "2. rain     173.0   6.242775   11.399154  1.0  2.0  4.0   7.00   116.0\n",
       "3. zen      206.0   8.106796   16.072648  1.0  2.0  3.0   6.75   141.0\n",
       "4. traffic  269.0  28.769517   73.789680  1.0  2.0  6.0  22.00   882.0\n",
       "5. music    126.0   9.873016   33.285909  1.0  2.0  3.0   5.00   307.0"
      ]
     },
     "execution_count": 300,
     "metadata": {},
     "output_type": "execute_result"
    }
   ],
   "source": [
    "# Table 4: mean, std, min, max\n",
    "final_events['duration'].groupby('name').describe()"
   ]
  },
  {
   "cell_type": "code",
   "execution_count": 301,
   "metadata": {},
   "outputs": [
    {
     "data": {
      "text/plain": [
       "name\n",
       "1. silent     4\n",
       "2. rain       4\n",
       "3. zen        3\n",
       "4. traffic    6\n",
       "5. music      3\n",
       "Name: duration, dtype: int64"
      ]
     },
     "execution_count": 301,
     "metadata": {},
     "output_type": "execute_result"
    }
   ],
   "source": [
    "# Table 4: median\n",
    "final_events['duration'].groupby('name').median()"
   ]
  },
  {
   "cell_type": "markdown",
   "metadata": {},
   "source": [
    "### Additional measures\n",
    "\n",
    "- sum durations / hour\n",
    "- count interactions / hour\n",
    "- mean interc"
   ]
  },
  {
   "cell_type": "code",
   "execution_count": 302,
   "metadata": {},
   "outputs": [
    {
     "data": {
      "text/html": [
       "<div>\n",
       "<style scoped>\n",
       "    .dataframe tbody tr th:only-of-type {\n",
       "        vertical-align: middle;\n",
       "    }\n",
       "\n",
       "    .dataframe tbody tr th {\n",
       "        vertical-align: top;\n",
       "    }\n",
       "\n",
       "    .dataframe thead th {\n",
       "        text-align: right;\n",
       "    }\n",
       "</style>\n",
       "<table border=\"1\" class=\"dataframe\">\n",
       "  <thead>\n",
       "    <tr style=\"text-align: right;\">\n",
       "      <th></th>\n",
       "      <th>count</th>\n",
       "      <th>sum</th>\n",
       "      <th>hours</th>\n",
       "      <th>count / h</th>\n",
       "      <th>total duration / h</th>\n",
       "      <th>mean duration</th>\n",
       "    </tr>\n",
       "    <tr>\n",
       "      <th>name</th>\n",
       "      <th></th>\n",
       "      <th></th>\n",
       "      <th></th>\n",
       "      <th></th>\n",
       "      <th></th>\n",
       "      <th></th>\n",
       "    </tr>\n",
       "  </thead>\n",
       "  <tbody>\n",
       "    <tr>\n",
       "      <th>1. silent</th>\n",
       "      <td>116</td>\n",
       "      <td>2709</td>\n",
       "      <td>63</td>\n",
       "      <td>1.841270</td>\n",
       "      <td>43.000000</td>\n",
       "      <td>23.353448</td>\n",
       "    </tr>\n",
       "    <tr>\n",
       "      <th>2. rain</th>\n",
       "      <td>173</td>\n",
       "      <td>1080</td>\n",
       "      <td>73</td>\n",
       "      <td>2.369863</td>\n",
       "      <td>14.794521</td>\n",
       "      <td>6.242775</td>\n",
       "    </tr>\n",
       "    <tr>\n",
       "      <th>3. zen</th>\n",
       "      <td>206</td>\n",
       "      <td>1670</td>\n",
       "      <td>79</td>\n",
       "      <td>2.607595</td>\n",
       "      <td>21.139241</td>\n",
       "      <td>8.106796</td>\n",
       "    </tr>\n",
       "    <tr>\n",
       "      <th>4. traffic</th>\n",
       "      <td>269</td>\n",
       "      <td>7739</td>\n",
       "      <td>69</td>\n",
       "      <td>3.898551</td>\n",
       "      <td>112.159420</td>\n",
       "      <td>28.769517</td>\n",
       "    </tr>\n",
       "    <tr>\n",
       "      <th>5. music</th>\n",
       "      <td>126</td>\n",
       "      <td>1244</td>\n",
       "      <td>63</td>\n",
       "      <td>2.000000</td>\n",
       "      <td>19.746032</td>\n",
       "      <td>9.873016</td>\n",
       "    </tr>\n",
       "  </tbody>\n",
       "</table>\n",
       "</div>"
      ],
      "text/plain": [
       "            count   sum  hours  count / h  total duration / h  mean duration\n",
       "name                                                                        \n",
       "1. silent     116  2709     63   1.841270           43.000000      23.353448\n",
       "2. rain       173  1080     73   2.369863           14.794521       6.242775\n",
       "3. zen        206  1670     79   2.607595           21.139241       8.106796\n",
       "4. traffic    269  7739     69   3.898551          112.159420      28.769517\n",
       "5. music      126  1244     63   2.000000           19.746032       9.873016"
      ]
     },
     "execution_count": 302,
     "metadata": {},
     "output_type": "execute_result"
    }
   ],
   "source": [
    "# Table 4: no. per hour and total use per hour\n",
    "temp = final\n",
    "# Total count/sum/hours per condition\n",
    "temp = temp[['count', 'sum', 'hours']].groupby('name').sum()\n",
    "temp['count / h'] = temp.apply(lambda row: row['count'] / row['hours'],axis=1)\n",
    "temp['total duration / h'] = temp.apply(lambda row: row['sum'] / row['hours'],axis=1)\n",
    "temp['mean duration'] = temp.apply(lambda row: row['sum'] / row['count'],axis=1)\n",
    "temp[['count / h', 'total duration / h', 'mean duration', 'hours']]\n",
    "temp"
   ]
  }
 ],
 "metadata": {
  "kernelspec": {
   "display_name": "Python 3",
   "language": "python",
   "name": "python3"
  },
  "language_info": {
   "codemirror_mode": {
    "name": "ipython",
    "version": 3
   },
   "file_extension": ".py",
   "mimetype": "text/x-python",
   "name": "python",
   "nbconvert_exporter": "python",
   "pygments_lexer": "ipython3",
   "version": "3.7.9"
  }
 },
 "nbformat": 4,
 "nbformat_minor": 4
}
